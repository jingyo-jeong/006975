{
  "nbformat": 4,
  "nbformat_minor": 5,
  "metadata": {
    "kernelspec": {
      "display_name": "tf2.5",
      "language": "python",
      "name": "tfdnn"
    },
    "language_info": {
      "codemirror_mode": {
        "name": "ipython",
        "version": 3
      },
      "file_extension": ".py",
      "mimetype": "text/x-python",
      "name": "python",
      "nbconvert_exporter": "python",
      "pygments_lexer": "ipython3",
      "version": "3.9.5"
    },
    "colab": {
      "name": "21-1-myfirst-tf.ipynb의 사본",
      "provenance": [],
      "collapsed_sections": [],
      "include_colab_link": true
    }
  },
  "cells": [
    {
      "cell_type": "markdown",
      "metadata": {
        "id": "view-in-github",
        "colab_type": "text"
      },
      "source": [
        "<a href=\"https://colab.research.google.com/github/jingyo-jeong/006975/blob/master/21_1_myfirst_tf_ipynb%EC%9D%98_%EC%82%AC%EB%B3%B8.ipynb\" target=\"_parent\"><img src=\"https://colab.research.google.com/assets/colab-badge.svg\" alt=\"Open In Colab\"/></a>"
      ]
    },
    {
      "cell_type": "code",
      "metadata": {
        "id": "e973cced",
        "colab": {
          "base_uri": "https://localhost:8080/",
          "height": 35
        },
        "outputId": "55c41157-ec8a-4a73-8226-14af664a8b62"
      },
      "source": [
        "import tensorflow as tf\n",
        "tf.__version__"
      ],
      "id": "e973cced",
      "execution_count": 2,
      "outputs": [
        {
          "output_type": "execute_result",
          "data": {
            "application/vnd.google.colaboratory.intrinsic+json": {
              "type": "string"
            },
            "text/plain": [
              "'2.7.0'"
            ]
          },
          "metadata": {},
          "execution_count": 2
        }
      ]
    },
    {
      "cell_type": "code",
      "metadata": {
        "id": "8273ba4c",
        "colab": {
          "base_uri": "https://localhost:8080/",
          "height": 35
        },
        "outputId": "6ccf0829-37c3-4d1f-a83c-702bac43f604"
      },
      "source": [
        "import sklearn as sk\n",
        "sk.__version__"
      ],
      "id": "8273ba4c",
      "execution_count": null,
      "outputs": [
        {
          "output_type": "execute_result",
          "data": {
            "application/vnd.google.colaboratory.intrinsic+json": {
              "type": "string"
            },
            "text/plain": [
              "'0.22.2.post1'"
            ]
          },
          "metadata": {},
          "execution_count": 2
        }
      ]
    },
    {
      "cell_type": "code",
      "metadata": {
        "id": "ffb95350",
        "colab": {
          "base_uri": "https://localhost:8080/"
        },
        "outputId": "24ab0726-c42f-4c29-df5a-e7b9c34a5f2d"
      },
      "source": [
        "import site\n",
        "site.getsitepackages()"
      ],
      "id": "ffb95350",
      "execution_count": null,
      "outputs": [
        {
          "output_type": "execute_result",
          "data": {
            "text/plain": [
              "['/usr/local/lib/python3.7/dist-packages',\n",
              " '/usr/lib/python3/dist-packages',\n",
              " '/usr/lib/python3.7/dist-packages']"
            ]
          },
          "metadata": {},
          "execution_count": 3
        }
      ]
    },
    {
      "cell_type": "code",
      "metadata": {
        "id": "c2775ec2"
      },
      "source": [
        "a, b = 10, 20"
      ],
      "id": "c2775ec2",
      "execution_count": null,
      "outputs": []
    },
    {
      "cell_type": "code",
      "metadata": {
        "id": "2609ee4c",
        "colab": {
          "base_uri": "https://localhost:8080/"
        },
        "outputId": "594158ac-7594-4676-d7f0-337a67990631"
      },
      "source": [
        "a + b"
      ],
      "id": "2609ee4c",
      "execution_count": null,
      "outputs": [
        {
          "output_type": "execute_result",
          "data": {
            "text/plain": [
              "30"
            ]
          },
          "metadata": {},
          "execution_count": 5
        }
      ]
    },
    {
      "cell_type": "code",
      "metadata": {
        "id": "67421aa6",
        "colab": {
          "base_uri": "https://localhost:8080/"
        },
        "outputId": "9d67094c-bca3-48a2-80c8-1485ffc2b46f"
      },
      "source": [
        "x = tf.constant(10)\n",
        "x"
      ],
      "id": "67421aa6",
      "execution_count": null,
      "outputs": [
        {
          "output_type": "execute_result",
          "data": {
            "text/plain": [
              "<tf.Tensor: shape=(), dtype=int32, numpy=10>"
            ]
          },
          "metadata": {},
          "execution_count": 6
        }
      ]
    },
    {
      "cell_type": "code",
      "metadata": {
        "id": "77b80b87",
        "colab": {
          "base_uri": "https://localhost:8080/"
        },
        "outputId": "12862015-8ff2-498e-dbcf-bf98169bc9aa"
      },
      "source": [
        "x"
      ],
      "id": "77b80b87",
      "execution_count": null,
      "outputs": [
        {
          "output_type": "execute_result",
          "data": {
            "text/plain": [
              "<tf.Tensor: shape=(), dtype=int32, numpy=10>"
            ]
          },
          "metadata": {},
          "execution_count": 7
        }
      ]
    },
    {
      "cell_type": "code",
      "metadata": {
        "id": "175d29c6",
        "colab": {
          "base_uri": "https://localhost:8080/"
        },
        "outputId": "ac40d260-5083-4b0f-bf4c-ed2dd33d3478"
      },
      "source": [
        "x.numpy()"
      ],
      "id": "175d29c6",
      "execution_count": null,
      "outputs": [
        {
          "output_type": "execute_result",
          "data": {
            "text/plain": [
              "10"
            ]
          },
          "metadata": {},
          "execution_count": 8
        }
      ]
    },
    {
      "cell_type": "code",
      "metadata": {
        "id": "10e521de",
        "colab": {
          "base_uri": "https://localhost:8080/"
        },
        "outputId": "97a47203-db50-4561-ab4d-2b0a4d6d9650"
      },
      "source": [
        "y = tf.constant(20)\n",
        "y"
      ],
      "id": "10e521de",
      "execution_count": null,
      "outputs": [
        {
          "output_type": "execute_result",
          "data": {
            "text/plain": [
              "<tf.Tensor: shape=(), dtype=int32, numpy=20>"
            ]
          },
          "metadata": {},
          "execution_count": 9
        }
      ]
    },
    {
      "cell_type": "code",
      "metadata": {
        "id": "f67efb3d",
        "colab": {
          "base_uri": "https://localhost:8080/"
        },
        "outputId": "a6fdca73-b2b7-4832-ad18-c91c0d36eeed"
      },
      "source": [
        "y.numpy()"
      ],
      "id": "f67efb3d",
      "execution_count": null,
      "outputs": [
        {
          "output_type": "execute_result",
          "data": {
            "text/plain": [
              "20"
            ]
          },
          "metadata": {},
          "execution_count": 10
        }
      ]
    },
    {
      "cell_type": "code",
      "metadata": {
        "id": "0f1a69d6",
        "colab": {
          "base_uri": "https://localhost:8080/"
        },
        "outputId": "e0659747-7543-4d1b-c499-b37068c41a53"
      },
      "source": [
        "x + y"
      ],
      "id": "0f1a69d6",
      "execution_count": null,
      "outputs": [
        {
          "output_type": "execute_result",
          "data": {
            "text/plain": [
              "<tf.Tensor: shape=(), dtype=int32, numpy=30>"
            ]
          },
          "metadata": {},
          "execution_count": 11
        }
      ]
    },
    {
      "cell_type": "code",
      "metadata": {
        "id": "ca487abc",
        "colab": {
          "base_uri": "https://localhost:8080/"
        },
        "outputId": "a70b5c8c-c07e-45b7-8311-034658873836"
      },
      "source": [
        "z = x + y\n",
        "z"
      ],
      "id": "ca487abc",
      "execution_count": null,
      "outputs": [
        {
          "output_type": "execute_result",
          "data": {
            "text/plain": [
              "<tf.Tensor: shape=(), dtype=int32, numpy=30>"
            ]
          },
          "metadata": {},
          "execution_count": 12
        }
      ]
    },
    {
      "cell_type": "code",
      "metadata": {
        "id": "0256cd6a",
        "colab": {
          "base_uri": "https://localhost:8080/"
        },
        "outputId": "031c49f0-e924-4b76-f390-47abd5fef1a8"
      },
      "source": [
        "z.numpy()"
      ],
      "id": "0256cd6a",
      "execution_count": null,
      "outputs": [
        {
          "output_type": "execute_result",
          "data": {
            "text/plain": [
              "30"
            ]
          },
          "metadata": {},
          "execution_count": 13
        }
      ]
    },
    {
      "cell_type": "code",
      "metadata": {
        "id": "5bde6eca",
        "colab": {
          "base_uri": "https://localhost:8080/"
        },
        "outputId": "3e877c80-a231-4e15-af27-5882c01cb471"
      },
      "source": [
        "m = tf.constant([1, 2, 3])\n",
        "m"
      ],
      "id": "5bde6eca",
      "execution_count": null,
      "outputs": [
        {
          "output_type": "execute_result",
          "data": {
            "text/plain": [
              "<tf.Tensor: shape=(3,), dtype=int32, numpy=array([1, 2, 3], dtype=int32)>"
            ]
          },
          "metadata": {},
          "execution_count": 16
        }
      ]
    },
    {
      "cell_type": "code",
      "metadata": {
        "id": "ed954d4f",
        "colab": {
          "base_uri": "https://localhost:8080/"
        },
        "outputId": "32ee821e-c0df-481a-8fcc-fe5014842d54"
      },
      "source": [
        "m.numpy()"
      ],
      "id": "ed954d4f",
      "execution_count": null,
      "outputs": [
        {
          "output_type": "execute_result",
          "data": {
            "text/plain": [
              "array([1, 2, 3], dtype=int32)"
            ]
          },
          "metadata": {},
          "execution_count": 17
        }
      ]
    },
    {
      "cell_type": "code",
      "metadata": {
        "id": "5e3508db",
        "colab": {
          "base_uri": "https://localhost:8080/"
        },
        "outputId": "a1cb2efc-3550-4fe5-b577-550ab1ba6a92"
      },
      "source": [
        "tf.executing_eagerly()"
      ],
      "id": "5e3508db",
      "execution_count": null,
      "outputs": [
        {
          "output_type": "execute_result",
          "data": {
            "text/plain": [
              "True"
            ]
          },
          "metadata": {},
          "execution_count": 18
        }
      ]
    },
    {
      "cell_type": "code",
      "metadata": {
        "id": "6f198ef2"
      },
      "source": [
        ""
      ],
      "id": "6f198ef2",
      "execution_count": null,
      "outputs": []
    },
    {
      "cell_type": "code",
      "metadata": {
        "colab": {
          "base_uri": "https://localhost:8080/",
          "height": 35
        },
        "id": "5KDvTp0aVceq",
        "outputId": "fe50b794-30ad-4534-a729-d4a39744cef1"
      },
      "source": [
        "# 텐서플로 1.0 버전 선택\n",
        "try:\n",
        "    # %tensorflow_version only exists in Colab.\n",
        "    %tensorflow_version 2.x\n",
        "except Exception:\n",
        "    pass\n",
        "\n",
        "import tensorflow as tf\n",
        "tf.__version__"
      ],
      "id": "5KDvTp0aVceq",
      "execution_count": null,
      "outputs": [
        {
          "output_type": "execute_result",
          "data": {
            "application/vnd.google.colaboratory.intrinsic+json": {
              "type": "string"
            },
            "text/plain": [
              "'2.5.0'"
            ]
          },
          "metadata": {
            "tags": []
          },
          "execution_count": 1
        }
      ]
    },
    {
      "cell_type": "code",
      "metadata": {
        "colab": {
          "base_uri": "https://localhost:8080/"
        },
        "id": "VZjSuhWDVi--",
        "outputId": "bf098a79-b6c3-40f4-eaa9-9ab70a26f0d6"
      },
      "source": [
        "tf.executing_eagerly()"
      ],
      "id": "VZjSuhWDVi--",
      "execution_count": null,
      "outputs": [
        {
          "output_type": "execute_result",
          "data": {
            "text/plain": [
              "True"
            ]
          },
          "metadata": {},
          "execution_count": 19
        }
      ]
    },
    {
      "cell_type": "code",
      "metadata": {
        "colab": {
          "base_uri": "https://localhost:8080/"
        },
        "id": "ieol2n0GVo-p",
        "outputId": "72b1fe66-0856-4407-c7df-793260ef0e70"
      },
      "source": [
        "import tensorflow as tf\n",
        "\n",
        "hello = tf.constant('Hello World!')\n",
        "print(hello)\n",
        "print(hello.numpy())"
      ],
      "id": "ieol2n0GVo-p",
      "execution_count": null,
      "outputs": [
        {
          "output_type": "stream",
          "text": [
            "tf.Tensor(b'Hello World!', shape=(), dtype=string)\n",
            "b'Hello World!'\n"
          ],
          "name": "stdout"
        }
      ]
    },
    {
      "cell_type": "code",
      "metadata": {
        "colab": {
          "base_uri": "https://localhost:8080/"
        },
        "id": "B0RunAZNWJFS",
        "outputId": "2a354648-ffdb-4510-dc3d-a120cb85bc41"
      },
      "source": [
        "a = tf.constant(5)\n",
        "b = tf.constant(3)\n",
        "print(a+b)\n",
        "(a+b).numpy()"
      ],
      "id": "B0RunAZNWJFS",
      "execution_count": null,
      "outputs": [
        {
          "output_type": "stream",
          "text": [
            "tf.Tensor(8, shape=(), dtype=int32)\n"
          ],
          "name": "stdout"
        },
        {
          "output_type": "execute_result",
          "data": {
            "text/plain": [
              "8"
            ]
          },
          "metadata": {},
          "execution_count": 22
        }
      ]
    },
    {
      "cell_type": "code",
      "metadata": {
        "id": "0RmZmVez8wHg"
      },
      "source": [
        ""
      ],
      "id": "0RmZmVez8wHg",
      "execution_count": null,
      "outputs": []
    }
  ]
}